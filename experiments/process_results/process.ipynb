{
 "cells": [
  {
   "cell_type": "markdown",
   "metadata": {},
   "source": [
    "# Processing the results of the experiment"
   ]
  },
  {
   "cell_type": "code",
   "execution_count": 1,
   "metadata": {},
   "outputs": [
    {
     "name": "stdout",
     "output_type": "stream",
     "text": [
      "Python 3.10.1\n"
     ]
    }
   ],
   "source": [
    "import importlib\n",
    "import utils\n",
    "importlib.reload(utils) # Reload instead of using cached version\n",
    "\n",
    "# Imports\n",
    "import pandas as pd\n",
    "import glob\n",
    "from pathlib import Path\n",
    "import os\n",
    "import subprocess\n",
    "import numpy as np\n",
    "from scipy import stats\n",
    "import matplotlib.pyplot as plt\n",
    "\n",
    "# Make sure we're using python 3.10.1 (same as version on short)\n",
    "!python3 --version"
   ]
  },
  {
   "cell_type": "markdown",
   "metadata": {},
   "source": [
    "## Setup"
   ]
  },
  {
   "cell_type": "code",
   "execution_count": 2,
   "metadata": {},
   "outputs": [],
   "source": [
    "# Set root to git subfolder\n",
    "git_root = subprocess.check_output(['git', 'rev-parse', '--show-toplevel']).decode('utf-8').strip()\n",
    "os.chdir(git_root)"
   ]
  },
  {
   "cell_type": "code",
   "execution_count": 3,
   "metadata": {},
   "outputs": [],
   "source": [
    "RESULT_DIR = \"experiments/results\""
   ]
  },
  {
   "cell_type": "markdown",
   "metadata": {},
   "source": [
    "Lets first extract all the experiments and trial (folds)"
   ]
  },
  {
   "cell_type": "code",
   "execution_count": 4,
   "metadata": {},
   "outputs": [
    {
     "data": {
      "text/html": [
       "<div>\n",
       "<style scoped>\n",
       "    .dataframe tbody tr th:only-of-type {\n",
       "        vertical-align: middle;\n",
       "    }\n",
       "\n",
       "    .dataframe tbody tr th {\n",
       "        vertical-align: top;\n",
       "    }\n",
       "\n",
       "    .dataframe thead th {\n",
       "        text-align: right;\n",
       "    }\n",
       "</style>\n",
       "<table border=\"1\" class=\"dataframe\">\n",
       "  <thead>\n",
       "    <tr style=\"text-align: right;\">\n",
       "      <th></th>\n",
       "      <th>search_algorithm</th>\n",
       "      <th>rl_algorithm</th>\n",
       "      <th>trial_number</th>\n",
       "      <th>path_log</th>\n",
       "    </tr>\n",
       "  </thead>\n",
       "  <tbody>\n",
       "    <tr>\n",
       "      <th>0</th>\n",
       "      <td>RandomSearch</td>\n",
       "      <td>UniformSelector</td>\n",
       "      <td>0</td>\n",
       "      <td>experiments/results/RandomSearch/UniformSelect...</td>\n",
       "    </tr>\n",
       "    <tr>\n",
       "      <th>1</th>\n",
       "      <td>RandomSearch</td>\n",
       "      <td>UniformSelector</td>\n",
       "      <td>1</td>\n",
       "      <td>experiments/results/RandomSearch/UniformSelect...</td>\n",
       "    </tr>\n",
       "    <tr>\n",
       "      <th>2</th>\n",
       "      <td>RandomSearch</td>\n",
       "      <td>UniformSelector</td>\n",
       "      <td>2</td>\n",
       "      <td>experiments/results/RandomSearch/UniformSelect...</td>\n",
       "    </tr>\n",
       "    <tr>\n",
       "      <th>3</th>\n",
       "      <td>RandomSearch</td>\n",
       "      <td>UniformSelector</td>\n",
       "      <td>3</td>\n",
       "      <td>experiments/results/RandomSearch/UniformSelect...</td>\n",
       "    </tr>\n",
       "    <tr>\n",
       "      <th>4</th>\n",
       "      <td>RandomSearch</td>\n",
       "      <td>UniformSelector</td>\n",
       "      <td>4</td>\n",
       "      <td>experiments/results/RandomSearch/UniformSelect...</td>\n",
       "    </tr>\n",
       "  </tbody>\n",
       "</table>\n",
       "</div>"
      ],
      "text/plain": [
       "  search_algorithm     rl_algorithm trial_number  \\\n",
       "0     RandomSearch  UniformSelector            0   \n",
       "1     RandomSearch  UniformSelector            1   \n",
       "2     RandomSearch  UniformSelector            2   \n",
       "3     RandomSearch  UniformSelector            3   \n",
       "4     RandomSearch  UniformSelector            4   \n",
       "\n",
       "                                            path_log  \n",
       "0  experiments/results/RandomSearch/UniformSelect...  \n",
       "1  experiments/results/RandomSearch/UniformSelect...  \n",
       "2  experiments/results/RandomSearch/UniformSelect...  \n",
       "3  experiments/results/RandomSearch/UniformSelect...  \n",
       "4  experiments/results/RandomSearch/UniformSelect...  "
      ]
     },
     "execution_count": 4,
     "metadata": {},
     "output_type": "execute_result"
    }
   ],
   "source": [
    "get_root_name = lambda path : path.split(\"/\")[-2]\n",
    "\n",
    "df = pd.DataFrame()\n",
    "\n",
    "# Loop through all the search algorithms\n",
    "search_algorithms = glob.glob(RESULT_DIR + \"/*/\")\n",
    "for search_algorithm in search_algorithms:\n",
    "    rl_algorithms = glob.glob(search_algorithm + \"/*/\")\n",
    "    for rl_algorithm in rl_algorithms:\n",
    "        trial_numbers = glob.glob(rl_algorithm + \"/*/\")\n",
    "        for trial_number in trial_numbers:\n",
    "            path_log = trial_number + \"logs/\"\n",
    "            new_row = pd.DataFrame([{\"search_algorithm\": get_root_name(search_algorithm), \"rl_algorithm\": get_root_name(rl_algorithm), \"trial_number\": get_root_name(trial_number).split(\"_\")[-1], \"path_log\": path_log}])\n",
    "            df = pd.concat([df, new_row], ignore_index=True)\n",
    "df"
   ]
  },
  {
   "cell_type": "markdown",
   "metadata": {},
   "source": [
    "## Preprocessing"
   ]
  },
  {
   "cell_type": "code",
   "execution_count": 5,
   "metadata": {},
   "outputs": [],
   "source": [
    "# Columns in tvec.csv: \n",
    "# algo_name,algo_name_nice,scenario_name,scenario_name_nice,seed,k,patch,patch_clean,patch_valid,diff,diff_valid,stats_steps,stats_steps_useful,stats_steps_useful_105,log_time_search,log_time_validation,log_time_test,log_time_valid_test,log_time_all,log_time_valid_all,fit_search,fit_training,fit_validation,fit_test,fit_all,fit_valid_training,fit_valid_validation,fit_valid_test,fit_valid_all,fit_init_search,fit_init_training,fit_init_validation,fit_init_test,fit_init_all,fit_init_valid_training,fit_init_valid_validation,fit_init_valid_test,fit_init_valid_all,runtime_test,runtime_all,runtime_valid_test,runtime_valid_all,runtime_init_test,runtime_init_all,runtime_init_valid_test,runtime_init_valid_all,patch_size,patch_clean_size,patch_valid_size,ratio_fit_search,ratio_fit_training,ratio_fit_validation,ratio_fit_test,ratio_fit_all,ratio_fit_valid_training,ratio_fit_valid_validation,ratio_fit_valid_test,ratio_fit_valid_all,ratio_runtime_test,ratio_runtime_all,ratio_runtime_valid_test,ratio_runtime_valid_all,ratio_steps_useful,ratio_steps_useful_105\n",
    "# TODO: stats_steps,stats_steps_useful,stats_steps_useful_105,log_time_search,log_time_validation,log_time_test,log_time_valid_test,log_time_all,log_time_valid_all,fit_search,fit_training,fit_validation,fit_test,fit_all,fit_valid_training,fit_valid_validation,fit_valid_test,fit_valid_all,fit_init_search,fit_init_training,fit_init_validation,fit_init_test,fit_init_all,fit_init_valid_training,fit_init_valid_validation,fit_init_valid_test,fit_init_valid_all,runtime_test,runtime_all,runtime_valid_test,runtime_valid_all,runtime_init_test,runtime_init_all,runtime_init_valid_test,runtime_init_valid_all,patch_size,patch_clean_size,patch_valid_size,ratio_fit_search,ratio_fit_training,ratio_fit_validation,ratio_fit_test,ratio_fit_all,ratio_fit_valid_training,ratio_fit_valid_validation,ratio_fit_valid_test,ratio_fit_valid_all,ratio_runtime_test,ratio_runtime_all,ratio_runtime_valid_test,ratio_runtime_valid_all,ratio_steps_useful,ratio_steps_useful_105"
   ]
  },
  {
   "cell_type": "code",
   "execution_count": 6,
   "metadata": {},
   "outputs": [
    {
     "data": {
      "text/plain": [
       "{'stop': 'time budget',\n",
       " 'best_patch': <magpie.base.patch.Patch at 0x7f97d479e2c0>,\n",
       " 'initial_patch': <magpie.base.patch.Patch at 0x7f97d4283f10>,\n",
       " 'initial_fitness': 55206465712,\n",
       " 'best_fitness': 55206459307,\n",
       " 'diff': '--- before: core/Solver.cc\\n+++ after: core/Solver.cc\\n@@ -351,6 +351,7 @@\\n     //\\n     int i, j;\\n     out_learnt.copyTo(analyze_toclear);\\n+    uint32_t abstract_level = 0;\\n     if (ccmin_mode == 2){\\n         uint32_t abstract_level = 0;\\n         for (i = 1; i < out_learnt.size(); i++)\\n',\n",
       " 'warmup_values': [55206460766, 55206460480, 55206465712],\n",
       " 'operator_selector': <magpie.base.operator_selector.UniformSelector at 0x7f97d42d86a0>,\n",
       " 'config': {'possible_edits': [magpie.xml.srcml_edits.DeclStmtReplacement,\n",
       "   magpie.xml.srcml_edits.ExprStmtReplacement,\n",
       "   magpie.xml.srcml_edits.IfReplacement,\n",
       "   magpie.xml.srcml_edits.ReturnReplacement,\n",
       "   magpie.xml.srcml_edits.DeclStmtInsertion,\n",
       "   magpie.xml.srcml_edits.ExprStmtInsertion,\n",
       "   magpie.xml.srcml_edits.IfInsertion,\n",
       "   magpie.xml.srcml_edits.ReturnInsertion,\n",
       "   magpie.xml.srcml_edits.DeclStmtDeletion,\n",
       "   magpie.xml.srcml_edits.ExprStmtDeletion,\n",
       "   magpie.xml.srcml_edits.IfDeletion,\n",
       "   magpie.xml.srcml_edits.ReturnDeletion],\n",
       "  'operator_selector': <magpie.base.operator_selector.UniformSelector at 0x7f97d42d86a0>,\n",
       "  'warmup': 3,\n",
       "  'warmup_strategy': 'last',\n",
       "  'cache_maxsize': 40,\n",
       "  'cache_keep': 0.2,\n",
       "  'delete_prob': 0.0,\n",
       "  'max_neighbours': 20,\n",
       "  'when_trapped': 'continue',\n",
       "  'final_out_dir': 'experiments/results/RandomSearch/UniformSelector/trial_0',\n",
       "  'batch_bins': [[]],\n",
       "  'batch_sample_size': 1,\n",
       "  'accept_fail': 'False',\n",
       "  'tabu_length': '10'}}"
      ]
     },
     "execution_count": 6,
     "metadata": {},
     "output_type": "execute_result"
    }
   ],
   "source": [
    "# Extract Pickle Object\n",
    "df['pkl_obj'] = df['path_log'].apply(utils.generate_pickle_object)\n",
    "df['pkl_obj'].iloc[0] # Example of what the pickle object looks like"
   ]
  },
  {
   "cell_type": "code",
   "execution_count": 7,
   "metadata": {},
   "outputs": [],
   "source": [
    "# Extract some common columns we might need\n",
    "\n",
    "# df['seed'] = df['pkl_obj'].apply(lambda x: x['seed'])\n",
    "df['diff'] = df['pkl_obj'].apply(lambda x: x['diff'])\n",
    "df['initial_fitness'] = df['pkl_obj'].apply(lambda x: x['initial_fitness'])\n",
    "df['best_fitness'] = df['pkl_obj'].apply(lambda x: x['best_fitness'])\n",
    "df['patch'] = df['path_log'].apply(utils.get_patch)"
   ]
  },
  {
   "cell_type": "markdown",
   "metadata": {},
   "source": [
    "## Analysis"
   ]
  },
  {
   "cell_type": "markdown",
   "metadata": {},
   "source": [
    "### Warmup Consistency"
   ]
  },
  {
   "cell_type": "markdown",
   "metadata": {},
   "source": [
    "First we explore the variance of the warmup phase. For our experiment, we used to perf function in hopes of minimizing the variance of the warmup phase. The hope is that the variance of the warmup phase is small enough that we can ignore it. We will explore this assumption here."
   ]
  },
  {
   "cell_type": "code",
   "execution_count": 8,
   "metadata": {},
   "outputs": [
    {
     "data": {
      "text/plain": [
       "0    [0.0, -5.18055309761678e-07, 8.959096331473404...\n",
       "1    [0.0, -1.002418931195237e-05, 1.56938157136465...\n",
       "2    [3.3298632629019664e-05, -2.2066253757557774e-...\n",
       "3    [9.35397779233682e-06, 0.0, -1.936367599597588...\n",
       "4    [-5.144325143646711e-06, 0.0, 2.00701135710801...\n",
       "Name: warmup_values, dtype: object"
      ]
     },
     "execution_count": 8,
     "metadata": {},
     "output_type": "execute_result"
    }
   ],
   "source": [
    "df['warmup_values'] = df['pkl_obj'].apply(lambda x: np.array(x['warmup_values'])) \n",
    "\n",
    "((df['warmup_values'] / df['warmup_values'].apply(lambda x: np.median(x))) - 1) * 100 # Percentage difference from median"
   ]
  },
  {
   "cell_type": "markdown",
   "metadata": {},
   "source": [
    "We notice that the perf function creates values that are very close together. However, there are some significant outliers. We create a boxplot to better visualize the variance of the warmup phase."
   ]
  },
  {
   "cell_type": "code",
   "execution_count": 9,
   "metadata": {},
   "outputs": [
    {
     "data": {
      "image/png": "[encoded data removed]",
      "text/plain": [
       "<Figure size 640x480 with 1 Axes>"
      ]
     },
     "metadata": {},
     "output_type": "display_data"
    }
   ],
   "source": [
    "# Creating a boxplot for each experiment\n",
    "plt.boxplot([df['warmup_values'].iloc[i] for i in range(len(df))])\n",
    "plt.title('Number of instruction for each experiment')\n",
    "plt.ylabel('Number of instructions')\n",
    "plt.xlabel('Experiment')\n",
    "plt.show()"
   ]
  },
  {
   "cell_type": "markdown",
   "metadata": {},
   "source": [
    "Each experiment should execute the same number of instructions, so we can combine all the warmup trials."
   ]
  },
  {
   "cell_type": "code",
   "execution_count": 10,
   "metadata": {},
   "outputs": [
    {
     "data": {
      "image/png": "[encoded data removed]",
      "text/plain": [
       "<Figure size 640x480 with 1 Axes>"
      ]
     },
     "metadata": {},
     "output_type": "display_data"
    }
   ],
   "source": [
    "combined_np_array = np.concatenate([df['warmup_values'].iloc[i] for i in range(len(df))])\n",
    "plt.boxplot(combined_np_array)\n",
    "plt.title('Number of instruction for each experiment')\n",
    "plt.ylabel('Number of instructions')\n",
    "plt.xlabel('Combined')\n",
    "plt.show()"
   ]
  },
  {
   "cell_type": "markdown",
   "metadata": {},
   "source": [
    "We notice that the variance is mostly consistance, however, at times the number of instructions exectued jump up very significantly. We will explore this further in the next section."
   ]
  },
  {
   "cell_type": "code",
   "execution_count": 11,
   "metadata": {},
   "outputs": [
    {
     "data": {
      "text/plain": [
       "array([55206460766, 55206460480, 55206465712, 55206459365, 55206453831,\n",
       "       55206468029, 55206489478, 55206458913, 55206471095, 55206465042,\n",
       "       55206459878, 55206458809, 55206460997, 55206463837, 55206464945])"
      ]
     },
     "execution_count": 11,
     "metadata": {},
     "output_type": "execute_result"
    }
   ],
   "source": [
    "combined_np_array"
   ]
  },
  {
   "cell_type": "code",
   "execution_count": 12,
   "metadata": {},
   "outputs": [
    {
     "name": "stdout",
     "output_type": "stream",
     "text": [
      "There are 1 outliers, so 6.67% of the data is outliers\n",
      "Average outlier magnitude: 0.00%\n"
     ]
    }
   ],
   "source": [
    "def get_outliers():\n",
    "    # Get outliers\n",
    "    Q1 = np.quantile(combined_np_array, 0.25)\n",
    "    Q3 = np.quantile(combined_np_array, 0.75)\n",
    "    IQR = Q3 - Q1\n",
    "    outliers = combined_np_array[(combined_np_array < Q1 - 1.5 * IQR) | (combined_np_array > Q3 + 1.5 * IQR)]\n",
    "    return outliers\n",
    "\n",
    "outliers = get_outliers()\n",
    "\n",
    "print(f\"There are {len(outliers)} outliers, so {len(outliers) * 100 / len(combined_np_array):.2f}% of the data is outliers\")\n",
    "\n",
    "# Percentage difference from median\n",
    "average_outlier_magnitude = ((outliers / np.median(combined_np_array)) - 1) * 100\n",
    "if len(average_outlier_magnitude) > 0:\n",
    "    print(f\"Average outlier magnitude: {np.mean(average_outlier_magnitude):.2f}%\")\n",
    "\n",
    "    "
   ]
  },
  {
   "cell_type": "markdown",
   "metadata": {},
   "source": [
    "This essentially gives use evidence that parallisation will induce very significant noise. As context switching leads to an uptick in instruction count."
   ]
  }
 ],
 "metadata": {
  "kernelspec": {
   "display_name": "magpie",
   "language": "python",
   "name": "python3"
  },
  "language_info": {
   "codemirror_mode": {
    "name": "ipython",
    "version": 3
   },
   "file_extension": ".py",
   "mimetype": "text/x-python",
   "name": "python",
   "nbconvert_exporter": "python",
   "pygments_lexer": "ipython3",
   "version": "3.10.1"
  }
 },
 "nbformat": 4,
 "nbformat_minor": 2
}
