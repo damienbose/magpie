{
 "cells": [
  {
   "cell_type": "markdown",
   "metadata": {},
   "source": [
    "# Processing the results of the experiment"
   ]
  },
  {
   "cell_type": "code",
   "execution_count": 65,
   "metadata": {},
   "outputs": [
    {
     "name": "stdout",
     "output_type": "stream",
     "text": [
      "The autoreload extension is already loaded. To reload it, use:\n",
      "  %reload_ext autoreload\n",
      "Python 3.10.1\n"
     ]
    }
   ],
   "source": [
    "%load_ext autoreload\n",
    "%autoreload 1\n",
    "\n",
    "%aimport utils\n",
    "import utils\n",
    "\n",
    "# Imports\n",
    "import pandas as pd\n",
    "import glob\n",
    "from pathlib import Path\n",
    "import os\n",
    "import subprocess\n",
    "import numpy as np\n",
    "\n",
    "# Make sure we're using python 3.10.1 (same as version on short)\n",
    "!python3 --version"
   ]
  },
  {
   "cell_type": "markdown",
   "metadata": {},
   "source": [
    "## Setup"
   ]
  },
  {
   "cell_type": "code",
   "execution_count": 66,
   "metadata": {},
   "outputs": [],
   "source": [
    "# Set root to git subfolder\n",
    "git_root = subprocess.check_output(['git', 'rev-parse', '--show-toplevel']).decode('utf-8').strip()\n",
    "os.chdir(git_root)"
   ]
  },
  {
   "cell_type": "code",
   "execution_count": 67,
   "metadata": {},
   "outputs": [],
   "source": [
    "RESULT_DIR = \"experiments/temp_results\""
   ]
  },
  {
   "cell_type": "markdown",
   "metadata": {},
   "source": [
    "Lets first extract all the experiments and trial (folds)"
   ]
  },
  {
   "cell_type": "code",
   "execution_count": 68,
   "metadata": {},
   "outputs": [
    {
     "data": {
      "text/html": [
       "<div>\n",
       "<style scoped>\n",
       "    .dataframe tbody tr th:only-of-type {\n",
       "        vertical-align: middle;\n",
       "    }\n",
       "\n",
       "    .dataframe tbody tr th {\n",
       "        vertical-align: top;\n",
       "    }\n",
       "\n",
       "    .dataframe thead th {\n",
       "        text-align: right;\n",
       "    }\n",
       "</style>\n",
       "<table border=\"1\" class=\"dataframe\">\n",
       "  <thead>\n",
       "    <tr style=\"text-align: right;\">\n",
       "      <th></th>\n",
       "      <th>search_algorithm</th>\n",
       "      <th>rl_algorithm</th>\n",
       "      <th>trial_number</th>\n",
       "      <th>path_log</th>\n",
       "    </tr>\n",
       "  </thead>\n",
       "  <tbody>\n",
       "    <tr>\n",
       "      <th>0</th>\n",
       "      <td>BestImprovementNoTabu</td>\n",
       "      <td>baseline</td>\n",
       "      <td>1</td>\n",
       "      <td>experiments/temp_results/BestImprovementNoTabu...</td>\n",
       "    </tr>\n",
       "    <tr>\n",
       "      <th>1</th>\n",
       "      <td>BestImprovementNoTabu</td>\n",
       "      <td>baseline</td>\n",
       "      <td>2</td>\n",
       "      <td>experiments/temp_results/BestImprovementNoTabu...</td>\n",
       "    </tr>\n",
       "    <tr>\n",
       "      <th>2</th>\n",
       "      <td>BestImprovementNoTabu</td>\n",
       "      <td>epsilon_greedy</td>\n",
       "      <td>1</td>\n",
       "      <td>experiments/temp_results/BestImprovementNoTabu...</td>\n",
       "    </tr>\n",
       "    <tr>\n",
       "      <th>3</th>\n",
       "      <td>BestImprovementNoTabu</td>\n",
       "      <td>epsilon_greedy</td>\n",
       "      <td>2</td>\n",
       "      <td>experiments/temp_results/BestImprovementNoTabu...</td>\n",
       "    </tr>\n",
       "    <tr>\n",
       "      <th>4</th>\n",
       "      <td>RandomSearch</td>\n",
       "      <td>baseline</td>\n",
       "      <td>1</td>\n",
       "      <td>experiments/temp_results/RandomSearch/baseline...</td>\n",
       "    </tr>\n",
       "    <tr>\n",
       "      <th>5</th>\n",
       "      <td>RandomSearch</td>\n",
       "      <td>baseline</td>\n",
       "      <td>2</td>\n",
       "      <td>experiments/temp_results/RandomSearch/baseline...</td>\n",
       "    </tr>\n",
       "    <tr>\n",
       "      <th>6</th>\n",
       "      <td>RandomSearch</td>\n",
       "      <td>epsilon_greedy</td>\n",
       "      <td>1</td>\n",
       "      <td>experiments/temp_results/RandomSearch/epsilon_...</td>\n",
       "    </tr>\n",
       "    <tr>\n",
       "      <th>7</th>\n",
       "      <td>RandomSearch</td>\n",
       "      <td>epsilon_greedy</td>\n",
       "      <td>2</td>\n",
       "      <td>experiments/temp_results/RandomSearch/epsilon_...</td>\n",
       "    </tr>\n",
       "  </tbody>\n",
       "</table>\n",
       "</div>"
      ],
      "text/plain": [
       "        search_algorithm    rl_algorithm trial_number  \\\n",
       "0  BestImprovementNoTabu        baseline            1   \n",
       "1  BestImprovementNoTabu        baseline            2   \n",
       "2  BestImprovementNoTabu  epsilon_greedy            1   \n",
       "3  BestImprovementNoTabu  epsilon_greedy            2   \n",
       "4           RandomSearch        baseline            1   \n",
       "5           RandomSearch        baseline            2   \n",
       "6           RandomSearch  epsilon_greedy            1   \n",
       "7           RandomSearch  epsilon_greedy            2   \n",
       "\n",
       "                                            path_log  \n",
       "0  experiments/temp_results/BestImprovementNoTabu...  \n",
       "1  experiments/temp_results/BestImprovementNoTabu...  \n",
       "2  experiments/temp_results/BestImprovementNoTabu...  \n",
       "3  experiments/temp_results/BestImprovementNoTabu...  \n",
       "4  experiments/temp_results/RandomSearch/baseline...  \n",
       "5  experiments/temp_results/RandomSearch/baseline...  \n",
       "6  experiments/temp_results/RandomSearch/epsilon_...  \n",
       "7  experiments/temp_results/RandomSearch/epsilon_...  "
      ]
     },
     "execution_count": 68,
     "metadata": {},
     "output_type": "execute_result"
    }
   ],
   "source": [
    "get_root_name = lambda path : path.split(\"/\")[-2]\n",
    "\n",
    "df = pd.DataFrame()\n",
    "\n",
    "# Loop through all the search algorithms\n",
    "search_algorithms = glob.glob(RESULT_DIR + \"/*/\")\n",
    "for search_algorithm in search_algorithms:\n",
    "    rl_algorithms = glob.glob(search_algorithm + \"/*/\")\n",
    "    for rl_algorithm in rl_algorithms:\n",
    "        trial_numbers = glob.glob(rl_algorithm + \"/*/\")\n",
    "        for trial_number in trial_numbers:\n",
    "            path_log = trial_number + \"logs/\"\n",
    "            new_row = pd.DataFrame([{\"search_algorithm\": get_root_name(search_algorithm), \"rl_algorithm\": get_root_name(rl_algorithm), \"trial_number\": get_root_name(trial_number).split(\"_\")[-1], \"path_log\": path_log}])\n",
    "            df = pd.concat([df, new_row], ignore_index=True)\n",
    "df"
   ]
  },
  {
   "cell_type": "markdown",
   "metadata": {},
   "source": [
    "## Preprocessing"
   ]
  },
  {
   "cell_type": "code",
   "execution_count": 69,
   "metadata": {},
   "outputs": [],
   "source": [
    "# Columns in tvec.csv: \n",
    "# algo_name,algo_name_nice,scenario_name,scenario_name_nice,seed,k,patch,patch_clean,patch_valid,diff,diff_valid,stats_steps,stats_steps_useful,stats_steps_useful_105,log_time_search,log_time_validation,log_time_test,log_time_valid_test,log_time_all,log_time_valid_all,fit_search,fit_training,fit_validation,fit_test,fit_all,fit_valid_training,fit_valid_validation,fit_valid_test,fit_valid_all,fit_init_search,fit_init_training,fit_init_validation,fit_init_test,fit_init_all,fit_init_valid_training,fit_init_valid_validation,fit_init_valid_test,fit_init_valid_all,runtime_test,runtime_all,runtime_valid_test,runtime_valid_all,runtime_init_test,runtime_init_all,runtime_init_valid_test,runtime_init_valid_all,patch_size,patch_clean_size,patch_valid_size,ratio_fit_search,ratio_fit_training,ratio_fit_validation,ratio_fit_test,ratio_fit_all,ratio_fit_valid_training,ratio_fit_valid_validation,ratio_fit_valid_test,ratio_fit_valid_all,ratio_runtime_test,ratio_runtime_all,ratio_runtime_valid_test,ratio_runtime_valid_all,ratio_steps_useful,ratio_steps_useful_105\n",
    "# TODO: stats_steps,stats_steps_useful,stats_steps_useful_105,log_time_search,log_time_validation,log_time_test,log_time_valid_test,log_time_all,log_time_valid_all,fit_search,fit_training,fit_validation,fit_test,fit_all,fit_valid_training,fit_valid_validation,fit_valid_test,fit_valid_all,fit_init_search,fit_init_training,fit_init_validation,fit_init_test,fit_init_all,fit_init_valid_training,fit_init_valid_validation,fit_init_valid_test,fit_init_valid_all,runtime_test,runtime_all,runtime_valid_test,runtime_valid_all,runtime_init_test,runtime_init_all,runtime_init_valid_test,runtime_init_valid_all,patch_size,patch_clean_size,patch_valid_size,ratio_fit_search,ratio_fit_training,ratio_fit_validation,ratio_fit_test,ratio_fit_all,ratio_fit_valid_training,ratio_fit_valid_validation,ratio_fit_valid_test,ratio_fit_valid_all,ratio_runtime_test,ratio_runtime_all,ratio_runtime_valid_test,ratio_runtime_valid_all,ratio_steps_useful,ratio_steps_useful_105"
   ]
  },
  {
   "cell_type": "code",
   "execution_count": 70,
   "metadata": {},
   "outputs": [
    {
     "data": {
      "text/plain": [
       "{'stop': 'time budget',\n",
       " 'best_patch': <magpie.base.patch.Patch at 0x7f24f885c9a0>,\n",
       " 'initial_patch': <magpie.base.patch.Patch at 0x7f24f88b2860>,\n",
       " 'initial_fitness': 1205550,\n",
       " 'best_fitness': 1202772,\n",
       " 'diff': '--- before: triangle.cpp\\n+++ after: triangle.cpp\\n@@ -2,20 +2,20 @@\\n \\n void delay() {\\n   const struct timespec ms = {0, (long int) (0.001*1e9)}; //tv_sec=0, tv_nsec (0.001 seconds)\\n-  nanosleep(&ms,NULL); /*ignores possible errors*/\\n+  delay(); /*ignores possible errors*/\\n }\\n \\n int classify_triangle(double a, double b, double c) {\\n   double tmp;\\n \\n-  delay();\\n+  if(b > c) {\\n+    tmp = b;\\n+    b = c;\\n+    c = tmp;\\n+  }\\n \\n   // Sort the sides so that a <= b <= c\\n-  if(a > b) {\\n-    tmp = a;\\n-    a = b;\\n-    b = tmp;\\n-  }\\n+  \\n \\n   if(a > c) {\\n     tmp = a;\\n@@ -23,11 +23,7 @@\\n     c = tmp;\\n   }\\n \\n-  if(b > c) {\\n-    tmp = b;\\n-    b = c;\\n-    c = tmp;\\n-  }\\n+  \\n \\n   if(a + b <= c)\\n     /*auto*/{\\n',\n",
       " 'warmup_values': [1205550, 1205551, 1205551, 1205551, 1205550],\n",
       " 'operator_selector': <magpie.base.operator_selector.UniformSelector at 0x7f24f88b2830>}"
      ]
     },
     "execution_count": 70,
     "metadata": {},
     "output_type": "execute_result"
    }
   ],
   "source": [
    "# Extract Pickle Object\n",
    "df['pkl_obj'] = df['path_log'].apply(utils.generate_pickle_object)\n",
    "df['pkl_obj'].iloc[0] # Example of what the pickle object looks like"
   ]
  },
  {
   "cell_type": "code",
   "execution_count": 71,
   "metadata": {},
   "outputs": [],
   "source": [
    "# Extract some common columns we might need\n",
    "\n",
    "# df['seed'] = df['pkl_obj'].apply(lambda x: x['seed'])\n",
    "df['diff'] = df['pkl_obj'].apply(lambda x: x['diff'])\n",
    "df['initial_fitness'] = df['pkl_obj'].apply(lambda x: x['initial_fitness'])\n",
    "df['best_fitness'] = df['pkl_obj'].apply(lambda x: x['best_fitness'])\n",
    "df['patch'] = df['path_log'].apply(utils.get_patch)"
   ]
  },
  {
   "cell_type": "markdown",
   "metadata": {},
   "source": [
    "## Analysis"
   ]
  },
  {
   "cell_type": "markdown",
   "metadata": {},
   "source": [
    "### Warmup Consistency"
   ]
  },
  {
   "cell_type": "markdown",
   "metadata": {},
   "source": [
    "First we explore the variance of the warmup phase. For our experiment, we used to perf function in hopes of minimizing the variance of the warmup phase. The hope is that the variance of the warmup phase is small enough that we can ignore it. We will explore this assumption here."
   ]
  },
  {
   "cell_type": "code",
   "execution_count": 72,
   "metadata": {},
   "outputs": [
    {
     "data": {
      "text/plain": [
       "0    0.000041\n",
       "1    0.000041\n",
       "2    0.000041\n",
       "3    2.016099\n",
       "4    3.887351\n",
       "5    7.864547\n",
       "6    0.501968\n",
       "7    0.000085\n",
       "Name: coeff_of_variation_warmup_fitness, dtype: float64"
      ]
     },
     "execution_count": 72,
     "metadata": {},
     "output_type": "execute_result"
    }
   ],
   "source": [
    "df['mean_warmup_fitness'] = df['pkl_obj'].apply(lambda x: np.mean(x['warmup_values']))\n",
    "df['std_warmup_fitness'] = df['pkl_obj'].apply(lambda x: np.std(x['warmup_values']))\n",
    "df['coeff_of_variation_warmup_fitness'] = df['std_warmup_fitness'] / df['mean_warmup_fitness']\n",
    "df['coeff_of_variation_warmup_fitness'] * 100"
   ]
  },
  {
   "cell_type": "code",
   "execution_count": null,
   "metadata": {},
   "outputs": [],
   "source": []
  }
 ],
 "metadata": {
  "kernelspec": {
   "display_name": "magpie",
   "language": "python",
   "name": "python3"
  },
  "language_info": {
   "codemirror_mode": {
    "name": "ipython",
    "version": 3
   },
   "file_extension": ".py",
   "mimetype": "text/x-python",
   "name": "python",
   "nbconvert_exporter": "python",
   "pygments_lexer": "ipython3",
   "version": "3.10.1"
  }
 },
 "nbformat": 4,
 "nbformat_minor": 2
}
