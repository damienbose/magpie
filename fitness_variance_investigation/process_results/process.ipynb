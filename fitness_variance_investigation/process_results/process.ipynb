{
 "cells": [
  {
   "cell_type": "markdown",
   "metadata": {},
   "source": [
    "# Processing the results of the experiment"
   ]
  },
  {
   "cell_type": "code",
   "execution_count": 63,
   "metadata": {},
   "outputs": [
    {
     "name": "stdout",
     "output_type": "stream",
     "text": [
      "Python 3.10.1\n"
     ]
    }
   ],
   "source": [
    "import importlib\n",
    "import utils\n",
    "importlib.reload(utils) # Reload instead of using cached version\n",
    "\n",
    "# Imports\n",
    "import pandas as pd\n",
    "import glob\n",
    "from pathlib import Path\n",
    "import os\n",
    "import subprocess\n",
    "import numpy as np\n",
    "from scipy import stats\n",
    "import matplotlib.pyplot as plt\n",
    "\n",
    "# Make sure we're using python 3.10.1 (same as version on short)\n",
    "!python3 --version"
   ]
  },
  {
   "cell_type": "markdown",
   "metadata": {},
   "source": [
    "## Setup"
   ]
  },
  {
   "cell_type": "code",
   "execution_count": 64,
   "metadata": {},
   "outputs": [],
   "source": [
    "# Set root to git subfolder\n",
    "git_root = subprocess.check_output(['git', 'rev-parse', '--show-toplevel']).decode('utf-8').strip()\n",
    "os.chdir(git_root)"
   ]
  },
  {
   "cell_type": "code",
   "execution_count": 65,
   "metadata": {},
   "outputs": [],
   "source": [
    "RESULT_DIR = \"fitness_variance_investigation/results\""
   ]
  },
  {
   "cell_type": "code",
   "execution_count": 66,
   "metadata": {},
   "outputs": [],
   "source": [
    "def understand_outliers(combined_np_array):\n",
    "    def get_outliers():\n",
    "        # Get outliers\n",
    "        Q1 = np.quantile(combined_np_array, 0.25)\n",
    "        Q3 = np.quantile(combined_np_array, 0.75)\n",
    "        IQR = Q3 - Q1\n",
    "        outliers = combined_np_array[(combined_np_array < Q1 - 1.5 * IQR) | (combined_np_array > Q3 + 1.5 * IQR)]\n",
    "        return outliers\n",
    "\n",
    "    outliers = get_outliers()\n",
    "\n",
    "    print(f\"There are {len(outliers)} outliers, so {len(outliers) * 100 / len(combined_np_array):.2f}% of the data is outliers\")\n",
    "\n",
    "    # Percentage difference from median\n",
    "    if outliers:\n",
    "        average_outlier_magnitude = ((outliers / np.median(combined_np_array)) - 1) * 100\n",
    "        print(f\"Average outlier magnitude: {np.mean(average_outlier_magnitude):.2f}%\")"
   ]
  },
  {
   "cell_type": "markdown",
   "metadata": {},
   "source": [
    "Lets first extract all the experiments and trial (folds)"
   ]
  },
  {
   "cell_type": "code",
   "execution_count": 67,
   "metadata": {},
   "outputs": [
    {
     "data": {
      "text/html": [
       "<div>\n",
       "<style scoped>\n",
       "    .dataframe tbody tr th:only-of-type {\n",
       "        vertical-align: middle;\n",
       "    }\n",
       "\n",
       "    .dataframe tbody tr th {\n",
       "        vertical-align: top;\n",
       "    }\n",
       "\n",
       "    .dataframe thead th {\n",
       "        text-align: right;\n",
       "    }\n",
       "</style>\n",
       "<table border=\"1\" class=\"dataframe\">\n",
       "  <thead>\n",
       "    <tr style=\"text-align: right;\">\n",
       "      <th></th>\n",
       "      <th>program</th>\n",
       "      <th>path_log</th>\n",
       "    </tr>\n",
       "  </thead>\n",
       "  <tbody>\n",
       "    <tr>\n",
       "      <th>0</th>\n",
       "      <td>triangle</td>\n",
       "      <td>fitness_variance_investigation/results/triangl...</td>\n",
       "    </tr>\n",
       "  </tbody>\n",
       "</table>\n",
       "</div>"
      ],
      "text/plain": [
       "    program                                           path_log\n",
       "0  triangle  fitness_variance_investigation/results/triangl..."
      ]
     },
     "execution_count": 67,
     "metadata": {},
     "output_type": "execute_result"
    }
   ],
   "source": [
    "get_root_name = lambda path : path.split(\"/\")[-2]\n",
    "\n",
    "df = pd.DataFrame()\n",
    "\n",
    "# Loop through all the search algorithms\n",
    "program_types = glob.glob(RESULT_DIR + \"/*/\")\n",
    "for program_type in program_types:\n",
    "    path_log = program_type + \"logs/\"\n",
    "    new_row = pd.DataFrame([{\"program\": get_root_name(program_type), \"path_log\": path_log}])\n",
    "    df = pd.concat([df, new_row], ignore_index=True)\n",
    "df"
   ]
  },
  {
   "cell_type": "markdown",
   "metadata": {},
   "source": [
    "## Preprocessing"
   ]
  },
  {
   "cell_type": "code",
   "execution_count": 68,
   "metadata": {},
   "outputs": [],
   "source": [
    "# Extract Pickle Object\n",
    "df['pkl_obj'] = df['path_log'].apply(utils.generate_pickle_object)\n",
    "\n",
    "# Extract Warmup Values\n",
    "df['warmup_values'] = df['pkl_obj'].apply(lambda x: np.array(x['warmup_values']))\n",
    "\n",
    "# Subtract median to get a better visualisation\n",
    "df['warmup_values'] = df['warmup_values'].apply(lambda x: x - np.median(x))\n"
   ]
  },
  {
   "cell_type": "markdown",
   "metadata": {},
   "source": [
    "## Analysis -- Warmup Consistency"
   ]
  },
  {
   "cell_type": "markdown",
   "metadata": {},
   "source": [
    "### Triangle Program"
   ]
  },
  {
   "cell_type": "markdown",
   "metadata": {},
   "source": [
    "First we explore the variance of the warmup phase. For our experiment, we used to perf function in hopes of minimizing the variance of the warmup phase. The hope is that the variance of the warmup phase is small enough that we can ignore it. We will explore this assumption here."
   ]
  },
  {
   "cell_type": "code",
   "execution_count": 69,
   "metadata": {},
   "outputs": [
    {
     "data": {
      "text/plain": [
       "array([-1.,  0.,  0., -2.,  0.,  0., -1.,  1., -1.,  0., -1.,  0., -1.,\n",
       "        0., -1.,  0.,  0.,  0.,  0., -1.,  0., -1.,  1., -1.,  0., -1.,\n",
       "        0., -1., -1., -2.,  0., -1., -1., -1.,  0.,  0.,  0.,  0., -1.,\n",
       "       -1., -1.,  0.,  0., -1.,  0.,  0., -1.,  1.,  0.,  0.,  0.,  0.,\n",
       "       -1.,  1., -1.,  0.,  2.,  1.,  0., -1., -2.,  0.,  0., -1., -1.,\n",
       "        0., -1., -1.,  0.,  0., -1., -1., -1., -1.,  1., -1., -1.,  0.,\n",
       "       -1.,  1., -1.,  0.,  1.,  0.,  0.,  0., -1., -2.,  0.,  0., -1.,\n",
       "        1., -1.,  0., -1., -1.,  0.,  0., -1.,  0.])"
      ]
     },
     "execution_count": 69,
     "metadata": {},
     "output_type": "execute_result"
    }
   ],
   "source": [
    "warmup_values = df[df['program'] == 'triangle']['warmup_values'].iloc[0]\n",
    "warmup_values"
   ]
  },
  {
   "cell_type": "code",
   "execution_count": 70,
   "metadata": {},
   "outputs": [
    {
     "data": {
      "image/png": "[encoded data removed]",
      "text/plain": [
       "<Figure size 640x480 with 1 Axes>"
      ]
     },
     "metadata": {},
     "output_type": "display_data"
    }
   ],
   "source": [
    "unique_values, counts = np.unique(warmup_values, return_counts=True)\n",
    "\n",
    "plt.bar(unique_values, counts)\n",
    "plt.title('Number of instructions for each experiment')\n",
    "plt.xlabel('Experiment')\n",
    "plt.ylabel('Number of instructions')\n",
    "plt.show()\n"
   ]
  },
  {
   "cell_type": "markdown",
   "metadata": {},
   "source": [
    "We notice that the perf function creates values that are very close together +- 1 instruction. We create a boxplot to better visualize the variance of the warmup phase."
   ]
  },
  {
   "cell_type": "code",
   "execution_count": 71,
   "metadata": {},
   "outputs": [
    {
     "data": {
      "image/png": "[encoded data removed]",
      "text/plain": [
       "<Figure size 640x480 with 1 Axes>"
      ]
     },
     "metadata": {},
     "output_type": "display_data"
    }
   ],
   "source": [
    "plt.boxplot(warmup_values)\n",
    "plt.title('Number of instruction for each experiment')\n",
    "plt.ylabel('Number of instructions')\n",
    "plt.xlabel('Experiment')\n",
    "plt.show()"
   ]
  },
  {
   "cell_type": "markdown",
   "metadata": {},
   "source": [
    "We notice that the variance is mostly consistent, however, often runs of this experiment lead to outliers where instruction count jumps as much as 20%. The explanation for this is difficult to replicate right now"
   ]
  },
  {
   "cell_type": "markdown",
   "metadata": {},
   "source": [
    "### Minisat"
   ]
  },
  {
   "cell_type": "markdown",
   "metadata": {},
   "source": [
    "We now do the same for minisat"
   ]
  },
  {
   "cell_type": "code",
   "execution_count": 72,
   "metadata": {},
   "outputs": [
    {
     "data": {
      "text/plain": [
       "array([-1.,  0.,  0., -2.,  0.,  0., -1.,  1., -1.,  0., -1.,  0., -1.,\n",
       "        0., -1.,  0.,  0.,  0.,  0., -1.,  0., -1.,  1., -1.,  0., -1.,\n",
       "        0., -1., -1., -2.,  0., -1., -1., -1.,  0.,  0.,  0.,  0., -1.,\n",
       "       -1., -1.,  0.,  0., -1.,  0.,  0., -1.,  1.,  0.,  0.,  0.,  0.,\n",
       "       -1.,  1., -1.,  0.,  2.,  1.,  0., -1., -2.,  0.,  0., -1., -1.,\n",
       "        0., -1., -1.,  0.,  0., -1., -1., -1., -1.,  1., -1., -1.,  0.,\n",
       "       -1.,  1., -1.,  0.,  1.,  0.,  0.,  0., -1., -2.,  0.,  0., -1.,\n",
       "        1., -1.,  0., -1., -1.,  0.,  0., -1.,  0.])"
      ]
     },
     "execution_count": 72,
     "metadata": {},
     "output_type": "execute_result"
    }
   ],
   "source": [
    "warmup_values = df[df['program'] == 'minisat']['warmup_values'].iloc[0]\n",
    "warmup_values"
   ]
  },
  {
   "cell_type": "code",
   "execution_count": null,
   "metadata": {},
   "outputs": [],
   "source": [
    "unique_values, counts = np.unique(warmup_values, return_counts=True)\n",
    "\n",
    "plt.bar(unique_values, counts)\n",
    "plt.title('Number of instructions for each experiment')\n",
    "plt.xlabel('Experiment')\n",
    "plt.ylabel('Number of instructions')\n",
    "plt.show()"
   ]
  },
  {
   "cell_type": "code",
   "execution_count": null,
   "metadata": {},
   "outputs": [],
   "source": [
    "plt.boxplot(warmup_values)\n",
    "plt.title('Number of instruction for each experiment')\n",
    "plt.ylabel('Number of instructions')\n",
    "plt.xlabel('Experiment')\n",
    "plt.show()"
   ]
  }
 ],
 "metadata": {
  "kernelspec": {
   "display_name": "magpie",
   "language": "python",
   "name": "python3"
  },
  "language_info": {
   "codemirror_mode": {
    "name": "ipython",
    "version": 3
   },
   "file_extension": ".py",
   "mimetype": "text/x-python",
   "name": "python",
   "nbconvert_exporter": "python",
   "pygments_lexer": "ipython3",
   "version": "3.10.1"
  }
 },
 "nbformat": 4,
 "nbformat_minor": 2
}
